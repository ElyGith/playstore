{
 "cells": [
  {
   "cell_type": "code",
   "execution_count": 1,
   "id": "17d6e2f9-3dee-46ee-90eb-d5c8a70065ca",
   "metadata": {},
   "outputs": [],
   "source": [
    "import pandas as pd\n",
    "import numpy as np\n",
    "import seaborn as sns\n",
    "\n",
    "\n",
    "#Bloc de configuration\n",
    "\n",
    "pd.set_option('display.width', 200)  # Largeur totale\n",
    "pd.set_option('display.max_colwidth', 50)  # Largeur par colonne\n",
    "\n",
    "pd.set_option('display.max_columns', None)  # Afficher toutes les colonnes"
   ]
  },
  {
   "cell_type": "code",
   "execution_count": null,
   "id": "3838cf58-bfe1-4669-a710-dc5ab7425bd3",
   "metadata": {},
   "outputs": [],
   "source": [
    "# Fichier sur lequel on va travailler \n",
    "df = pd.read_csv('../data/2_preprocessing_data.csv',sep=',')"
   ]
  },
  {
   "cell_type": "code",
   "execution_count": null,
   "id": "ac07f469-d489-4a45-8130-5799b261cd9a",
   "metadata": {},
   "outputs": [],
   "source": [
    "df.sample(5)"
   ]
  },
  {
   "cell_type": "code",
   "execution_count": null,
   "id": "86da298d-dbfc-47a7-a21c-407a77114a00",
   "metadata": {},
   "outputs": [],
   "source": [
    "df.info()"
   ]
  },
  {
   "cell_type": "code",
   "execution_count": null,
   "id": "59a150c3-e6f4-4706-b297-d3e9ce09181a",
   "metadata": {},
   "outputs": [],
   "source": [
    "#NaN anormal, si c'est sensé être payant le prix doit être indiqué\n",
    "df_paid_nan= df[(df['Price'].isnull()) & (df['Type'] != 'Free')]"
   ]
  },
  {
   "cell_type": "markdown",
   "id": "00976d8c-2101-4a75-a25a-4c7fda1e25d5",
   "metadata": {},
   "source": [
    "ERRATUM \n",
    "\n",
    "Problème dans le fichier précédent dans le nom des colonnes pendant un filtre.\n",
    "\n",
    "---------------------\n",
    "\n",
    "On va les enlever pour éviter que ça biaise la suite\n",
    "on pourra les réintroduire plus tard et les considérer comme valant 0\n"
   ]
  },
  {
   "cell_type": "code",
   "execution_count": null,
   "id": "55ead834-3530-4bc6-ad88-35a8421131d5",
   "metadata": {},
   "outputs": [],
   "source": [
    "df = df[df['Android Ver'].notnull()]\n"
   ]
  },
  {
   "cell_type": "code",
   "execution_count": null,
   "id": "9104d222-3ef3-459c-b283-5c1f90b8b4bb",
   "metadata": {},
   "outputs": [],
   "source": [
    "df = df[df['Current Ver'].notnull()]\n"
   ]
  },
  {
   "cell_type": "code",
   "execution_count": null,
   "id": "400d2625-780e-4414-980d-cf32e7675845",
   "metadata": {},
   "outputs": [],
   "source": [
    "#Pour comparer la répartition en enlevant les valeurs extrêmes \n",
    "sns.boxplot(df[\"Size\"])"
   ]
  },
  {
   "cell_type": "code",
   "execution_count": null,
   "id": "9e3115b4-43ff-4acf-b98c-1a6151e7cfae",
   "metadata": {},
   "outputs": [],
   "source": [
    "### Reste size à traiter, mais on va d'abord passer à NaN toutes les valeurs extrêmes \n",
    "##Puis on attribuera une valeurs proche de la médiane, global et de leurs catégorie\n",
    "\n",
    "\n",
    "df.loc[df['Size'] < 0.1, 'Size'] = np.nan\n"
   ]
  },
  {
   "cell_type": "code",
   "execution_count": null,
   "id": "a21db221-6da5-4454-a2a2-4a17d44046af",
   "metadata": {},
   "outputs": [],
   "source": [
    "import seaborn as sns\n",
    "import matplotlib.pyplot as plt\n",
    "\n",
    "for name in df.select_dtypes(include='number').columns:\n",
    "    sns.boxplot(df[name])\n",
    "    plt.title(name)\n",
    "    plt.show()"
   ]
  },
  {
   "cell_type": "code",
   "execution_count": null,
   "id": "28f67319-19de-4c6c-9db8-575a0f6de736",
   "metadata": {},
   "outputs": [],
   "source": [
    "df.info()"
   ]
  },
  {
   "cell_type": "code",
   "execution_count": null,
   "id": "0b736da7-d857-40c1-a20c-755b75fc3592",
   "metadata": {},
   "outputs": [],
   "source": [
    "df.groupby('Category')['Size'].agg('median')"
   ]
  },
  {
   "cell_type": "code",
   "execution_count": null,
   "id": "2fcd6958-c9d3-4b21-86fb-e4d61270cca2",
   "metadata": {},
   "outputs": [],
   "source": [
    "var_glob = df['Size'].std()\n"
   ]
  },
  {
   "cell_type": "code",
   "execution_count": null,
   "id": "cb1b05c4-576e-4035-a805-078285d37e6c",
   "metadata": {},
   "outputs": [],
   "source": [
    "mediane_global = df['Size'].median()\n",
    "\n"
   ]
  },
  {
   "cell_type": "code",
   "execution_count": null,
   "id": "cd387b9a-e89c-411b-9c68-9b5f8fd8795e",
   "metadata": {},
   "outputs": [],
   "source": [
    "from itertools import cycle\n",
    "\n",
    "# Crée une alternance infinie entre +1 et -1\n",
    "alternance = cycle([1, -1])\n",
    "\n",
    "def ajouter_variation(mediane_categorie):\n",
    "    variation = var_glob * next(alternance) *0.7\n",
    "    return max((mediane_categorie + mediane_global) / 2 + variation,1)  "
   ]
  },
  {
   "cell_type": "code",
   "execution_count": null,
   "id": "3f547c74-b9e4-4f1c-858a-5928507ba77e",
   "metadata": {},
   "outputs": [],
   "source": [
    "df.groupby('Category')['Size'].transform('median').apply(ajouter_variation)"
   ]
  },
  {
   "cell_type": "code",
   "execution_count": null,
   "id": "8471477d-647c-4f58-9902-ee8e6d8b1d0e",
   "metadata": {},
   "outputs": [],
   "source": [
    "df['Size']=df['Size'].fillna(df.groupby('Category')['Size'].transform('median').apply(ajouter_variation))"
   ]
  },
  {
   "cell_type": "code",
   "execution_count": null,
   "id": "d2fa047c-ed3c-48d9-9541-ee39c8229b74",
   "metadata": {},
   "outputs": [],
   "source": [
    "df.info()"
   ]
  },
  {
   "cell_type": "code",
   "execution_count": null,
   "id": "b9745846-1a4e-4826-bdf7-e00a6676b2c6",
   "metadata": {},
   "outputs": [],
   "source": [
    "df['Size'].median()"
   ]
  },
  {
   "cell_type": "code",
   "execution_count": null,
   "id": "619c8971-1297-4a34-b7c8-02befede0c6f",
   "metadata": {},
   "outputs": [],
   "source": [
    "df.groupby('Category')['Size'].agg('median')"
   ]
  },
  {
   "cell_type": "code",
   "execution_count": null,
   "id": "12b473a4-5ad2-4c2e-a367-a8101fa8817c",
   "metadata": {},
   "outputs": [],
   "source": [
    "df = df.drop_duplicates()"
   ]
  },
  {
   "cell_type": "code",
   "execution_count": null,
   "id": "b270d5ae-60c0-42db-b30e-a8f5ee380269",
   "metadata": {},
   "outputs": [],
   "source": [
    "df.to_csv(\"../data/3_data_cleaning_vf.csv\", float_format=\"%.6f\",index=False)"
   ]
  },
  {
   "cell_type": "code",
   "execution_count": null,
   "id": "26838095-7674-43df-be48-9c64085019f3",
   "metadata": {},
   "outputs": [],
   "source": []
  }
 ],
 "metadata": {
  "kernelspec": {
   "display_name": "Python (projet playstore)",
   "language": "python",
   "name": "env"
  },
  "language_info": {
   "codemirror_mode": {
    "name": "ipython",
    "version": 3
   },
   "file_extension": ".py",
   "mimetype": "text/x-python",
   "name": "python",
   "nbconvert_exporter": "python",
   "pygments_lexer": "ipython3",
   "version": "3.13.3"
  }
 },
 "nbformat": 4,
 "nbformat_minor": 5
}
